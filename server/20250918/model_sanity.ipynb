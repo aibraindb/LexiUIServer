{
 "cells": [
  {
   "cell_type": "markdown",
   "metadata": {},
   "source": [
    "# Local Model Sanity Notebook\n",
    "\n",
    "This notebook checks **fuzzy**, **TF-IDF**, **MiniLM**, **DistilBERT**, and **LayoutLMv3** models from local disk only. \n",
    "- No internet calls\n",
    "- Explicit error printing\n",
    "- Draws boxes over PDF for visual check"
   ]
  },
  {
   "cell_type": "code",
   "execution_count": null,
   "metadata": {},
   "outputs": [],
   "source": [
    "import os, json, traceback\n",
    "from pathlib import Path\n",
    "import numpy as np\n",
    "import matplotlib.pyplot as plt\n",
    "from matplotlib.patches import Rectangle\n",
    "\n",
    "from rapidfuzz import fuzz\n",
    "from sklearn.feature_extraction.text import TfidfVectorizer\n",
    "from sklearn.metrics.pairwise import cosine_similarity\n",
    "\n",
    "import torch\n",
    "from transformers import AutoTokenizer, AutoModel, AutoProcessor, LayoutLMv3Model\n",
    "from sentence_transformers import SentenceTransformer\n",
    "\n",
    "# -------- config --------\n",
    "MODELS_ROOT = Path(\"src/models\").resolve()\n",
    "DOC_ID = \"sample_doc\"  # change to your doc id folder under data/\n",
    "DATA_ROOT = Path(\"data\")\n",
    "\n",
    "def norm(s):\n",
    "    return \" \".join((s or \"\").lower().replace(\"\\u00A0\",\" \").split())"
   ]
  },
  {
   "cell_type": "code",
   "execution_count": null,
   "metadata": {},
   "outputs": [],
   "source": [
    "# ---- load token boxes/meta ----\n",
    "docdir = DATA_ROOT / DOC_ID\n",
    "boxes = json.loads((docdir/\"boxes.json\").read_text())\n",
    "meta  = json.loads((docdir/\"meta.json\").read_text())\n",
    "print(f\"Loaded {len(boxes)} tokens from {DOC_ID}\")"
   ]
  },
  {
   "cell_type": "code",
   "execution_count": null,
   "metadata": {},
   "outputs": [],
   "source": [
    "# ---- fuzzy + tfidf scorers ----\n",
    "def score_fuzzy(q, c):\n",
    "    return fuzz.QRatio(q, c)/100.0\n",
    "\n",
    "def score_tfidf(q, c):\n",
    "    vec = TfidfVectorizer(ngram_range=(1,2))\n",
    "    try:\n",
    "        vec.fit([q,c])\n",
    "    except ValueError:\n",
    "        vec.fit([\"placeholder\"])\n",
    "    X = vec.transform([q,c])\n",
    "    return float(cosine_similarity(X[0],X[1])[0,0])"
   ]
  },
  {
   "cell_type": "code",
   "execution_count": null,
   "metadata": {},
   "outputs": [],
   "source": [
    "# ---- try load local models ----\n",
    "errors = {}\n",
    "\n",
    "minilm = None\n",
    "try:\n",
    "    path = MODELS_ROOT/\"sentence-transformers_all-MiniLM-L6-v2\"\n",
    "    minilm = SentenceTransformer(str(path))\n",
    "    print(\"[OK] MiniLM loaded\")\n",
    "except Exception as e:\n",
    "    errors['minilm'] = traceback.format_exc()\n",
    "\n",
    "distil = None\n",
    "try:\n",
    "    path = MODELS_ROOT/\"distilbert-base-uncased\"\n",
    "    tok = AutoTokenizer.from_pretrained(str(path), local_files_only=True)\n",
    "    mdl = AutoModel.from_pretrained(str(path), local_files_only=True)\n",
    "    distil = (tok, mdl.eval(), 'cuda' if torch.cuda.is_available() else 'cpu')\n",
    "    print(\"[OK] DistilBERT loaded\")\n",
    "except Exception as e:\n",
    "    errors['distil'] = traceback.format_exc()\n",
    "\n",
    "layout = None\n",
    "try:\n",
    "    path = MODELS_ROOT/\"microsoft_layoutlmv3-base\"\n",
    "    proc = AutoProcessor.from_pretrained(str(path), local_files_only=True)\n",
    "    mdl  = LayoutLMv3Model.from_pretrained(str(path), local_files_only=True)\n",
    "    layout = (proc, mdl.eval(), 'cuda' if torch.cuda.is_available() else 'cpu')\n",
    "    print(\"[OK] LayoutLMv3 loaded\")\n",
    "except Exception as e:\n",
    "    errors['layoutlmv3'] = traceback.format_exc()\n",
    "\n",
    "errors"
   ]
  },
  {
   "cell_type": "code",
   "execution_count": null,
   "metadata": {},
   "outputs": [],
   "source": [
    "# ---- run one test key/value ----\n",
    "key = \"Invoice Number\"\n",
    "value = \"12345\"\n",
    "combo = norm(key+\" \"+value)\n",
    "\n",
    "print(\"Fuzzy:\", score_fuzzy(value, value))\n",
    "print(\"TFIDF:\", score_tfidf(value, value))\n",
    "\n",
    "if minilm:\n",
    "    try:\n",
    "        E = minilm.encode([combo, value], convert_to_numpy=True, normalize_embeddings=True)\n",
    "        print(\"MiniLM score:\", float(np.dot(E[0],E[1])))\n",
    "    except Exception as e:\n",
    "        print(\"MiniLM failed:\", e)\n",
    "\n",
    "if distil:\n",
    "    tok, mdl, dev = distil\n",
    "    try:\n",
    "        t = tok([combo,value], return_tensors='pt', padding=True).to(dev)\n",
    "        with torch.no_grad():\n",
    "            h = mdl(**t).last_hidden_state.mean(1)\n",
    "            h = torch.nn.functional.normalize(h, dim=1)\n",
    "            print(\"DistilBERT score:\", float(h[0]@h[1].T))\n",
    "    except Exception as e:\n",
    "        print(\"DistilBERT failed:\", e)\n",
    "\n",
    "if layout:\n",
    "    print(\"LayoutLMv3 loaded; not running scoring here (needs image features)\")"
   ]
  },
  {
   "cell_type": "code",
   "execution_count": null,
   "metadata": {},
   "outputs": [],
   "source": [
    "# ---- draw one page with dummy boxes ----\n",
    "page = 0\n",
    "fig, ax = plt.subplots(figsize=(8,10))\n",
    "ax.set_title(f\"Doc {DOC_ID} page {page}\")\n",
    "ax.set_xlim(0, meta['pages'][page]['width'])\n",
    "ax.set_ylim(0, meta['pages'][page]['height'])\n",
    "ax.invert_yaxis()\n",
    "\n",
    "colors = {\"fuzzy\":\"green\",\"tfidf\":\"blue\",\"minilm\":\"purple\",\"distil\":\"red\"}\n",
    "for i,box in enumerate(boxes[:20]):  # just first 20 tokens\n",
    "    rect = Rectangle((box['x0'], box['y0']), box['x1']-box['x0'], box['y1']-box['y0'],\n",
    "                     linewidth=0.5, edgecolor='gray', facecolor='none')\n",
    "    ax.add_patch(rect)\n",
    "plt.show()"
   ]
  }
 ],
 "metadata": {
  "kernelspec": {
   "display_name": "Python 3",
   "language": "python",
   "name": "python3"
  },
  "language_info": {
   "name": "python"
  }
 }
}